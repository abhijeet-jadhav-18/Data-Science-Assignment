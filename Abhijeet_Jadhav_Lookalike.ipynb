{
 "cells": [
  {
   "cell_type": "code",
   "execution_count": 37,
   "id": "1d3d66e0",
   "metadata": {},
   "outputs": [],
   "source": [
    "import pandas as pd\n",
    "from sklearn.preprocessing import OneHotEncoder, MinMaxScaler\n",
    "from sklearn.preprocessing import MultiLabelBinarizer\n",
    "from sklearn.metrics.pairwise import cosine_similarity\n",
    "import numpy as np"
   ]
  },
  {
   "cell_type": "code",
   "execution_count": 38,
   "id": "02869dc4",
   "metadata": {},
   "outputs": [],
   "source": [
    "customers_df = pd.read_csv(\"Customers.csv\")\n",
    "products_df = pd.read_csv(\"Products.csv\")\n",
    "transactions_df = pd.read_csv(\"Transactions.csv\")"
   ]
  },
  {
   "cell_type": "code",
   "execution_count": 39,
   "id": "ebab8e62",
   "metadata": {},
   "outputs": [],
   "source": [
    "customers_df['SignupDate'] = pd.to_datetime(customers_df['SignupDate'])"
   ]
  },
  {
   "cell_type": "code",
   "execution_count": 40,
   "id": "03aa06ef",
   "metadata": {},
   "outputs": [
    {
     "name": "stderr",
     "output_type": "stream",
     "text": [
      "C:\\ProgramData\\anaconda3\\Lib\\site-packages\\sklearn\\preprocessing\\_encoders.py:972: FutureWarning: `sparse` was renamed to `sparse_output` in version 1.2 and will be removed in 1.4. `sparse_output` is ignored unless you leave `sparse` to its default value.\n",
      "  warnings.warn(\n"
     ]
    }
   ],
   "source": [
    "region_encoder = OneHotEncoder(sparse=False)\n",
    "region_encoded = region_encoder.fit_transform(customers_df[['Region']])\n"
   ]
  },
  {
   "cell_type": "code",
   "execution_count": 41,
   "id": "d3d3dcde",
   "metadata": {},
   "outputs": [],
   "source": [
    "# Preprocessing Transactions Data\n",
    "# Merge Transactions with Product Information"
   ]
  },
  {
   "cell_type": "code",
   "execution_count": 42,
   "id": "ea8befe2",
   "metadata": {},
   "outputs": [],
   "source": [
    "transactions_merged = transactions_df.merge(products_df, on='ProductID', how='left')"
   ]
  },
  {
   "cell_type": "code",
   "execution_count": 43,
   "id": "3537900d",
   "metadata": {},
   "outputs": [],
   "source": [
    "# Aggregate transaction data for customers\n",
    "transaction_summary = transactions_merged.groupby('CustomerID').agg({\n",
    "    'TotalValue': 'sum',  # Total spending\n",
    "    'Quantity': 'sum',   # Total quantity purchased\n",
    "    'Price_y': 'mean',   # Average price of products purchased\n",
    "    'Category': lambda x: ','.join(x.unique())  # Unique categories purchased\n",
    "}).reset_index().rename(columns={'Price_y': 'AveragePrice'})"
   ]
  },
  {
   "cell_type": "code",
   "execution_count": 44,
   "id": "d789562a",
   "metadata": {},
   "outputs": [],
   "source": [
    "customer_profiles = customers_df.merge(transaction_summary, on='CustomerID', how='left')"
   ]
  },
  {
   "cell_type": "code",
   "execution_count": 45,
   "id": "23efa3b6",
   "metadata": {},
   "outputs": [],
   "source": [
    "customer_profiles[['TotalValue', 'Quantity', 'AveragePrice']] = customer_profiles[['TotalValue', 'Quantity', 'AveragePrice']].fillna(0)"
   ]
  },
  {
   "cell_type": "code",
   "execution_count": 46,
   "id": "5735b09f",
   "metadata": {},
   "outputs": [],
   "source": [
    "categories_split = customer_profiles['Category'].fillna('None').str.split(',')\n"
   ]
  },
  {
   "cell_type": "code",
   "execution_count": 47,
   "id": "07946116",
   "metadata": {},
   "outputs": [],
   "source": [
    "# Use MultiLabelBinarizer to one-hot encode the multi-label data\n",
    "category_encoder = MultiLabelBinarizer()\n",
    "categories_encoded = category_encoder.fit_transform(categories_split)"
   ]
  },
  {
   "cell_type": "code",
   "execution_count": 48,
   "id": "3a3a318c",
   "metadata": {},
   "outputs": [
    {
     "name": "stdout",
     "output_type": "stream",
     "text": [
      "(200, 5)\n"
     ]
    }
   ],
   "source": [
    "print(categories_encoded.shape)"
   ]
  },
  {
   "cell_type": "code",
   "execution_count": 49,
   "id": "08acc710",
   "metadata": {},
   "outputs": [],
   "source": [
    "features = np.hstack([\n",
    "    region_encoded,  # Encoded regions\n",
    "    customer_profiles[['TotalValue', 'Quantity', 'AveragePrice']].values,  # Numeric transaction data\n",
    "    categories_encoded  # Encoded categories\n",
    "])"
   ]
  },
  {
   "cell_type": "code",
   "execution_count": 50,
   "id": "4f07bc69",
   "metadata": {},
   "outputs": [],
   "source": [
    "# Normalize the features using Min-Max Scaling\n",
    "scaler = MinMaxScaler()\n",
    "features_normalized = scaler.fit_transform(features)"
   ]
  },
  {
   "cell_type": "code",
   "execution_count": 51,
   "id": "c6de883a",
   "metadata": {},
   "outputs": [],
   "source": [
    "similarity_matrix = cosine_similarity(features_normalized)"
   ]
  },
  {
   "cell_type": "code",
   "execution_count": 52,
   "id": "eeb7687f",
   "metadata": {},
   "outputs": [],
   "source": [
    "customer_ids = customer_profiles['CustomerID']\n",
    "lookalike_map = {}\n"
   ]
  },
  {
   "cell_type": "code",
   "execution_count": 53,
   "id": "5958ab4d",
   "metadata": {},
   "outputs": [],
   "source": [
    "for i in range(20):  # For the first 20 customers\n",
    "    customer_index = i\n",
    "    similar_indices = np.argsort(similarity_matrix[customer_index])[::-1][1:4]  # Top 3 similar (excluding self)\n",
    "    similar_customers = [\n",
    "        (customer_ids[idx], round(similarity_matrix[customer_index, idx], 4))\n",
    "        for idx in similar_indices\n",
    "    ]\n",
    "    lookalike_map[customer_ids[customer_index]] = similar_customers"
   ]
  },
  {
   "cell_type": "code",
   "execution_count": 54,
   "id": "006ea343",
   "metadata": {},
   "outputs": [],
   "source": [
    "# Prepare Lookalike Map DataFrame for CSV export\n",
    "lookalike_list = [\n",
    "    {\"cust_id\": cust_id, \"lookalikes\": str(lookalikes)}\n",
    "    for cust_id, lookalikes in lookalike_map.items()\n",
    "]\n",
    "\n",
    "lookalike_df = pd.DataFrame(lookalike_list)\n"
   ]
  },
  {
   "cell_type": "code",
   "execution_count": 55,
   "id": "5a181ad8",
   "metadata": {},
   "outputs": [],
   "source": [
    "# Save the Lookalike Map to a CSV\n",
    "lookalike_df.to_csv(\"Lookalike.csv\", index=False)\n"
   ]
  },
  {
   "cell_type": "code",
   "execution_count": 56,
   "id": "57ed579c",
   "metadata": {},
   "outputs": [
    {
     "name": "stdout",
     "output_type": "stream",
     "text": [
      "Lookalike model has been successfully built! Output saved to Lookalike.csv.\n"
     ]
    }
   ],
   "source": [
    "print(\"Lookalike model has been successfully built! Output saved to Lookalike.csv.\")"
   ]
  },
  {
   "cell_type": "code",
   "execution_count": null,
   "id": "78228c73",
   "metadata": {},
   "outputs": [],
   "source": []
  },
  {
   "cell_type": "code",
   "execution_count": null,
   "id": "dbf7a72d",
   "metadata": {},
   "outputs": [],
   "source": []
  }
 ],
 "metadata": {
  "kernelspec": {
   "display_name": "Python 3 (ipykernel)",
   "language": "python",
   "name": "python3"
  },
  "language_info": {
   "codemirror_mode": {
    "name": "ipython",
    "version": 3
   },
   "file_extension": ".py",
   "mimetype": "text/x-python",
   "name": "python",
   "nbconvert_exporter": "python",
   "pygments_lexer": "ipython3",
   "version": "3.11.4"
  }
 },
 "nbformat": 4,
 "nbformat_minor": 5
}
